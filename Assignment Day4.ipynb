{
 "cells": [
  {
   "cell_type": "markdown",
   "metadata": {},
   "source": [
    "# 1. Write down a program in Python for Opening a File and Writing \" I Love LetsUpgrade\" And close it, and read it back again, and then append some data to it and close it."
   ]
  },
  {
   "cell_type": "code",
   "execution_count": 1,
   "metadata": {},
   "outputs": [
    {
     "name": "stdout",
     "output_type": "stream",
     "text": [
      "Hey this is my first file. And I Love LetsUpgrade. \n"
     ]
    }
   ],
   "source": [
    "abc = open('MyFirstFile.txt','w')\n",
    "abc.write('Hey this is my first file. And I Love LetsUpgrade. ')\n",
    "abc.close()\n",
    "abc = open('MyFirstFile.txt','r')\n",
    "print(abc.read())\n",
    "abc.close()\n",
    "abc = open('MyFirstFile.txt','a')\n",
    "abc.write('Hope you like it. Kindly let me know.')\n",
    "abc.close()"
   ]
  },
  {
   "cell_type": "markdown",
   "metadata": {},
   "source": [
    "# 2. Write a function which can return a Factorial of any numbers as INT, given in the argument."
   ]
  },
  {
   "cell_type": "code",
   "execution_count": 2,
   "metadata": {},
   "outputs": [],
   "source": [
    "factorial = 1\n",
    "def fact(num1):\n",
    "    print('The factorial of',num1,'is:')\n",
    "    if num1 <= 0:\n",
    "        print('Not Defined')\n",
    "    elif num1 == 0:\n",
    "        print(num1+1)\n",
    "    else:\n",
    "        for num in range(1, (num1+1)):\n",
    "            global factorial\n",
    "            factorial = factorial * num\n",
    "        print(factorial)"
   ]
  },
  {
   "cell_type": "code",
   "execution_count": 3,
   "metadata": {},
   "outputs": [
    {
     "name": "stdout",
     "output_type": "stream",
     "text": [
      "The factorial of -1 is:\n",
      "Not Defined\n"
     ]
    }
   ],
   "source": [
    "fact(-1)"
   ]
  },
  {
   "cell_type": "code",
   "execution_count": 4,
   "metadata": {},
   "outputs": [
    {
     "name": "stdout",
     "output_type": "stream",
     "text": [
      "The factorial of 0 is:\n",
      "Not Defined\n"
     ]
    }
   ],
   "source": [
    "fact(0)"
   ]
  },
  {
   "cell_type": "code",
   "execution_count": 5,
   "metadata": {},
   "outputs": [
    {
     "name": "stdout",
     "output_type": "stream",
     "text": [
      "The factorial of 5 is:\n",
      "120\n"
     ]
    }
   ],
   "source": [
    "fact(5)"
   ]
  },
  {
   "cell_type": "code",
   "execution_count": null,
   "metadata": {},
   "outputs": [],
   "source": []
  }
 ],
 "metadata": {
  "kernelspec": {
   "display_name": "Python 3",
   "language": "python",
   "name": "python3"
  },
  "language_info": {
   "codemirror_mode": {
    "name": "ipython",
    "version": 3
   },
   "file_extension": ".py",
   "mimetype": "text/x-python",
   "name": "python",
   "nbconvert_exporter": "python",
   "pygments_lexer": "ipython3",
   "version": "3.8.5"
  }
 },
 "nbformat": 4,
 "nbformat_minor": 4
}
